{
 "cells": [
  {
   "cell_type": "code",
   "execution_count": 21,
   "id": "e7dfb818-7f4e-4cfe-b38f-b8d02d830d2f",
   "metadata": {},
   "outputs": [],
   "source": [
    "from source import create_db, create_df\n",
    "import sqlite3\n",
    "import pandas as pd"
   ]
  },
  {
   "cell_type": "code",
   "execution_count": 34,
   "id": "4b08a8e2-d87b-4d8e-bfed-0e92d7eac727",
   "metadata": {},
   "outputs": [],
   "source": [
    "cls = fit_model(model_n=\"lr\")\n"
   ]
  },
  {
   "cell_type": "code",
   "execution_count": 37,
   "id": "d6a0e4be-6ab3-4032-9c44-d0a8d70955c1",
   "metadata": {},
   "outputs": [
    {
     "data": {
      "text/plain": [
       "1.0"
      ]
     },
     "execution_count": 37,
     "metadata": {},
     "output_type": "execute_result"
    }
   ],
   "source": [
    "cls.score(X_train, y_train)"
   ]
  },
  {
   "cell_type": "code",
   "execution_count": 33,
   "id": "fdb48d80-e33d-4cae-8bde-8cbe70b4f5d1",
   "metadata": {},
   "outputs": [],
   "source": [
    "def fit_model(del_feat=[], model_n=\"lr\", sample=...):\n",
    "\n",
    "    delete = [\"Date\", \"EmployeeID\"] + del_feat\n",
    "    \n",
    "    df_info = create_df(\"PRAGMA table_info(df)\")\n",
    "\n",
    "\n",
    "    features = \", \".join(df_info[\"name\"][~df_info[\"name\"].isin(delete)].tolist())\n",
    "\n",
    "    query = \"SELECT \" + features + \" FROM df\"\n",
    "\n",
    "    df = create_df(query)\n",
    "    \n",
    "    target = \"Attrition\"\n",
    "    X = df.drop(columns=target)\n",
    "    y = df[target]\n",
    "\n",
    "    global X_train, X_test, y_train, y_test\n",
    "    X_train, X_test, y_train, y_test = train_test_split(X, y, test_size=0.2, random_state=42)\n",
    "\n",
    "    over_sampler = RandomOverSampler(random_state=42)\n",
    "    under_sampler = RandomUnderSampler(random_state=42)\n",
    "\n",
    "    \n",
    "    X_train_over, y_train_over = over_sampler.fit_resample(X_train, y_train)\n",
    "    X_train_under, y_train_under = under_sampler.fit_resample(X_train, y_train)\n",
    "\n",
    "    num_vals = df._get_numeric_data().columns.tolist()\n",
    "    cat_vals = [i for i in X.select_dtypes(\"object\").columns.tolist() if X[i].str.len().iloc[0] > 3]\n",
    "    cat_processor = OneHotEncoder()\n",
    "    num_processor = StandardScaler()\n",
    "\n",
    "    processor = ColumnTransformer(transformers=[(\"cat\", cat_processor, cat_vals), (\"num\", num_processor, num_vals)])\n",
    "\n",
    "    if model_n == \"lr\":\n",
    "\n",
    "        model = make_pipeline(\n",
    "                        processor, \n",
    "                        LogisticRegression(random_state=42))\n",
    "\n",
    "        if sample == \"over\":\n",
    "            model.fit(X_train_over, y_train_over)\n",
    "        elif sample == \"under\":\n",
    "            model.fit(X_train_under, y_train_under)\n",
    "        else:\n",
    "            model.fit(X_train, y_train)\n",
    "            \n",
    "        return model\n",
    "        \n",
    "    if model_n == \"dt\":\n",
    "\n",
    "        model = make_pipeline(\n",
    "                        processor, \n",
    "                        DecisionTreeClassifier(random_state=42))\n",
    "        if sample == \"over\":\n",
    "            model.fit(X_train_over, y_train_over)\n",
    "        elif sample == \"under\":\n",
    "            model.fit(X_train_under, y_train_under)\n",
    "        else:\n",
    "            model.fit(X_train, y_train)\n",
    "        return model\n",
    "    "
   ]
  }
 ],
 "metadata": {
  "kernelspec": {
   "display_name": "Python 3 (ipykernel)",
   "language": "python",
   "name": "python3"
  },
  "language_info": {
   "codemirror_mode": {
    "name": "ipython",
    "version": 3
   },
   "file_extension": ".py",
   "mimetype": "text/x-python",
   "name": "python",
   "nbconvert_exporter": "python",
   "pygments_lexer": "ipython3",
   "version": "3.11.7"
  }
 },
 "nbformat": 4,
 "nbformat_minor": 5
}
