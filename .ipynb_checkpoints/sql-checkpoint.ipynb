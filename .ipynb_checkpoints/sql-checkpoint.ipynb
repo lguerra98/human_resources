{
 "cells": [
  {
   "cell_type": "code",
   "execution_count": null,
   "id": "5499ee3a-0df6-4dc1-867b-b617b62f5590",
   "metadata": {},
   "outputs": [],
   "source": [
    "import sqlite3\n",
    "import pandas as pd\n",
    "import os\n",
    "from source import create_db"
   ]
  },
  {
   "cell_type": "code",
   "execution_count": null,
   "id": "1a25f043-f534-4ec0-a30e-2841e44cfd46",
   "metadata": {},
   "outputs": [],
   "source": [
    "create_db()"
   ]
  }
 ],
 "metadata": {
  "kernelspec": {
   "display_name": "Python 3 (ipykernel)",
   "language": "python",
   "name": "python3"
  },
  "language_info": {
   "codemirror_mode": {
    "name": "ipython",
    "version": 3
   },
   "file_extension": ".py",
   "mimetype": "text/x-python",
   "name": "python",
   "nbconvert_exporter": "python",
   "pygments_lexer": "ipython3",
   "version": "3.9.12"
  }
 },
 "nbformat": 4,
 "nbformat_minor": 5
}
