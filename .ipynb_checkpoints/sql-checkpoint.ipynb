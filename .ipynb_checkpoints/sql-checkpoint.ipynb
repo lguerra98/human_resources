{
 "cells": [
  {
   "cell_type": "code",
   "execution_count": 1,
   "id": "5499ee3a-0df6-4dc1-867b-b617b62f5590",
   "metadata": {},
   "outputs": [],
   "source": [
    "import sqlite3\n",
    "import pandas as pd\n",
    "import os\n",
    "# %load_ext sql\n",
    "# %sql sqlite:///data/human_db"
   ]
  },
  {
   "cell_type": "code",
   "execution_count": 2,
   "id": "0d48b716-ca49-480a-9968-a3fbb84c409f",
   "metadata": {},
   "outputs": [],
   "source": [
    "def create_db(path=r\"C:\\Users\\USUARIO\\OneDrive - Universidad de Antioquia\\Analitica_3\"):\n",
    "    \"\"\"\"\n",
    "    Funcion para la creacion del Database\n",
    "\n",
    "    Parametros\n",
    "    ------------\n",
    "        path: direccion local de los archivos como una raw string\n",
    "\n",
    "    \"\"\"\n",
    "    if os.path.exists(\"data\"):\n",
    "        os.unlink(\"data/human_db\")\n",
    "        os.rmdir(\"data\")\n",
    "    \n",
    "    os.mkdir(\"data\")\n",
    "    file_names = [i for i in os.listdir(path) if os.path.splitext(i)[1] == \".csv\"]\n",
    "    conn = sqlite3.connect(\"data/human_db\")\n",
    "\n",
    "    for x in file_names:\n",
    "        pd.read_csv(os.path.join(path, x)).to_sql(os.path.splitext(x)[0], conn, if_exists=\"replace\")\n",
    "        \n",
    "    conn.close()"
   ]
  },
  {
   "cell_type": "code",
   "execution_count": 3,
   "id": "e27c4201-768b-4238-90a3-dc9236a8261f",
   "metadata": {},
   "outputs": [],
   "source": [
    "create_db()"
   ]
  },
  {
   "cell_type": "code",
   "execution_count": null,
   "id": "fd438e0d-e95a-47cd-8952-0a5c08465be6",
   "metadata": {},
   "outputs": [],
   "source": []
  }
 ],
 "metadata": {
  "kernelspec": {
   "display_name": "Python 3 (ipykernel)",
   "language": "python",
   "name": "python3"
  },
  "language_info": {
   "codemirror_mode": {
    "name": "ipython",
    "version": 3
   },
   "file_extension": ".py",
   "mimetype": "text/x-python",
   "name": "python",
   "nbconvert_exporter": "python",
   "pygments_lexer": "ipython3",
   "version": "3.11.7"
  }
 },
 "nbformat": 4,
 "nbformat_minor": 5
}
