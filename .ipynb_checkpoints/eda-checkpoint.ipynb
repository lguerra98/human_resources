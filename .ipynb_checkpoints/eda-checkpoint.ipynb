{
 "cells": [
  {
   "cell_type": "code",
   "execution_count": null,
   "id": "e0080d8f",
   "metadata": {},
   "outputs": [],
   "source": [
    "from source import create_db, create_df, heatmap, pieplot, barcharts, histograms, scatterplots, rf_module, KM_module\n",
    "import sqlite3\n",
    "import pandas as pd\n",
    "import matplotlib.pyplot as plt\n",
    "import seaborn as sns\n",
    "import itertools\n",
    "import pickle\n",
    "import os\n",
    "from sklearn.metrics import silhouette_score\n",
    "\n",
    "\n",
    "\n",
    "\n",
    "pd.set_option(\"display.max_columns\", None)"
   ]
  },
  {
   "cell_type": "code",
   "execution_count": null,
   "id": "cbabc10b-b90e-4d17-bfdb-816d4cf98d7b",
   "metadata": {},
   "outputs": [],
   "source": [
    "query = \"SELECT * FROM df\"\n",
    "query_2 = \"PRAGMA table_info(df)\"\n",
    "df = create_df(query, index=True)\n",
    "df_info = create_df(query_2)"
   ]
  },
  {
   "cell_type": "markdown",
   "id": "c55e7ee9",
   "metadata": {},
   "source": [
    "# EDA"
   ]
  },
  {
   "cell_type": "markdown",
   "id": "b40a6087",
   "metadata": {},
   "source": [
    "## Informacion de Variables en el DataFrame"
   ]
  },
  {
   "cell_type": "code",
   "execution_count": null,
   "id": "8da21e82-8999-4f35-a625-0dabd411c4c2",
   "metadata": {
    "scrolled": true
   },
   "outputs": [],
   "source": [
    "df_info"
   ]
  },
  {
   "cell_type": "markdown",
   "id": "8b3b0948-de66-4236-9f99-ab416a5fe925",
   "metadata": {},
   "source": [
    "## Comparacion de datos por año"
   ]
  },
  {
   "cell_type": "markdown",
   "id": "3a3f8449",
   "metadata": {},
   "source": [
    "### Proporcion de bajas en la empresa por año"
   ]
  },
  {
   "cell_type": "code",
   "execution_count": null,
   "id": "fe03c187-d370-4754-a92b-750a80399946",
   "metadata": {},
   "outputs": [],
   "source": [
    "pieplot(df)"
   ]
  },
  {
   "cell_type": "markdown",
   "id": "dae4274f",
   "metadata": {},
   "source": [
    "### Coparacion de la distribucion de los datos por año"
   ]
  },
  {
   "cell_type": "markdown",
   "id": "317858e1",
   "metadata": {},
   "source": [
    "#### 2015"
   ]
  },
  {
   "cell_type": "code",
   "execution_count": null,
   "id": "424ec3ab",
   "metadata": {},
   "outputs": [],
   "source": [
    "list = df.select_dtypes(\"object\").drop(columns=\"Attrition\").columns\n",
    "col = eval(input(\"Numero de columna:\", ))\n",
    "barcharts(df=df[df[\"Date\"].dt.strftime(\"%Y\") == \"2015\"], normalize=False, only=True, targ_col=list[col])\n",
    "print(col)"
   ]
  },
  {
   "cell_type": "markdown",
   "id": "57d19e59",
   "metadata": {},
   "source": [
    "#### 2016"
   ]
  },
  {
   "cell_type": "code",
   "execution_count": null,
   "id": "751037f4",
   "metadata": {},
   "outputs": [],
   "source": [
    "list = df.select_dtypes(\"object\").drop(columns=\"Attrition\").columns\n",
    "col = eval(input(\"Numero de columna:\", ))\n",
    "barcharts(df=df[df[\"Date\"].dt.strftime(\"%Y\") == \"2016\"], normalize=False, only=True, targ_col=list[col])\n",
    "print(col)"
   ]
  },
  {
   "cell_type": "markdown",
   "id": "5749dadc-8bc9-41ee-acc7-5c65ec67238c",
   "metadata": {},
   "source": [
    "## Mapa de Correlacion"
   ]
  },
  {
   "cell_type": "code",
   "execution_count": null,
   "id": "4b9049be-c419-446e-95fe-b6fa2c7ad1e1",
   "metadata": {},
   "outputs": [],
   "source": [
    "heatmap(df, annot=True)"
   ]
  },
  {
   "cell_type": "markdown",
   "id": "c35ecc86-21ba-401c-930e-92d24eddb498",
   "metadata": {},
   "source": [
    "## Mapas de Dispersion"
   ]
  },
  {
   "cell_type": "code",
   "execution_count": null,
   "id": "96a1f1e1-36e6-481e-8d32-b602f78a686a",
   "metadata": {},
   "outputs": [],
   "source": [
    "scatterplots(df)"
   ]
  },
  {
   "cell_type": "markdown",
   "id": "5c3fe331-e19a-4d95-b92b-90481cca67ab",
   "metadata": {},
   "source": [
    "## Histogramas Variables Numericas"
   ]
  },
  {
   "cell_type": "code",
   "execution_count": null,
   "id": "0aee3ef8-64b2-437e-b947-b4ebfc3d75f0",
   "metadata": {},
   "outputs": [],
   "source": [
    "histograms(df)"
   ]
  },
  {
   "cell_type": "markdown",
   "id": "96c66c10-894b-4ad7-9845-264ea2227ea3",
   "metadata": {},
   "source": [
    "## Diagramas de barra Variables Categoricas"
   ]
  },
  {
   "cell_type": "code",
   "execution_count": null,
   "id": "77547ff8-7784-48de-8d30-8eeda9a0813f",
   "metadata": {},
   "outputs": [],
   "source": [
    "barcharts(df)"
   ]
  },
  {
   "cell_type": "markdown",
   "id": "4119fadf-f582-4b8d-b9eb-c523e5a02b16",
   "metadata": {},
   "source": [
    "# Seleccion de Variables"
   ]
  },
  {
   "cell_type": "code",
   "execution_count": null,
   "id": "65a837cf",
   "metadata": {},
   "outputs": [],
   "source": [
    "to_del = [\"Age\", \"YearsAtCompany\", \"TotalWorkingYears\", \"YearsWithCurrManager\"]\n",
    "to_del_com = itertools.combinations(to_del, 2)\n",
    "\n",
    "for i in to_del:\n",
    "    for j in (\"over\", \"under\"):\n",
    "\n",
    "        rf_module(del_feat=[i], sample=j)"
   ]
  },
  {
   "cell_type": "code",
   "execution_count": null,
   "id": "b6e34b05",
   "metadata": {},
   "outputs": [],
   "source": [
    "to_del_com = itertools.combinations(to_del, 2)\n",
    "\n",
    "for i in to_del_com:\n",
    "    for j in (\"over\", \"under\"):\n",
    "\n",
    "        rf_module(del_feat=list(i), sample=j)"
   ]
  },
  {
   "cell_type": "code",
   "execution_count": null,
   "id": "e15822bf",
   "metadata": {},
   "outputs": [],
   "source": []
  }
 ],
 "metadata": {
  "kernelspec": {
   "display_name": "Python 3 (ipykernel)",
   "language": "python",
   "name": "python3"
  },
  "language_info": {
   "codemirror_mode": {
    "name": "ipython",
    "version": 3
   },
   "file_extension": ".py",
   "mimetype": "text/x-python",
   "name": "python",
   "nbconvert_exporter": "python",
   "pygments_lexer": "ipython3",
   "version": "3.11.5"
  }
 },
 "nbformat": 4,
 "nbformat_minor": 5
}
