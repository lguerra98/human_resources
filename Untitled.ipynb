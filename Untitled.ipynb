{
 "cells": [
  {
   "cell_type": "code",
   "execution_count": null,
   "id": "e0080d8f",
   "metadata": {},
   "outputs": [],
   "source": [
    "from source import create_db"
   ]
  },
  {
   "cell_type": "code",
   "execution_count": null,
   "id": "243e0498",
   "metadata": {},
   "outputs": [],
   "source": [
    "create_db()"
   ]
  },
  {
   "cell_type": "code",
   "execution_count": null,
   "id": "b344b9ba",
   "metadata": {},
   "outputs": [],
   "source": [
    "%load_ext sql\n",
    "%sql sqlite:///data/human_db"
   ]
  },
  {
   "cell_type": "code",
   "execution_count": null,
   "id": "8b1c4595",
   "metadata": {},
   "outputs": [],
   "source": [
    "%%sql\n",
    "SELECT resignationReason, COUNT(resignationReason) FROM retirement_info_up\n",
    "GROUP BY resignationReason;\n",
    "\n",
    "SELECT EmployeeID FROM retirement_info_up;\n",
    "\n",
    "SELECT EmployeeID, strftime(\"%Y\", Date) as year FROM manager_survey_up\n",
    "WHERE year = '2015';\n",
    "\n",
    "SELECT *, strftime(\"%Y\", Date) as year FROM manager_survey_up\n",
    "WHERE year = '2016';\n",
    "\n",
    "SELECT * FROM (SELECT *, strftime(\"%Y\", Date) as year FROM manager_survey_up\n",
    "WHERE year = '2015') b1\n",
    "LEFT JOIN (SELECT *, strftime(\"%Y\", Date) as year FROM manager_survey_up\n",
    "WHERE year = '2016') b2 ON b1.EmployeeID = b2.EmployeeID;\n",
    "\n",
    "SELECT * FROM (SELECT *, strftime(\"%Y\", Date) AS year FROM employee_survey_data_up\n",
    "WHERE year = '2015') b1\n",
    "LEFT JOIN (SELECT *, strftime(\"%Y\", Date) AS year FROM employee_survey_data_up\n",
    "WHERE year = '2016') b2 ON b1.EmployeeID = b2.EmployeeID;\n",
    "\n",
    "\n",
    "SELECT * FROM (SELECT YearsAtCompany, YearsWithCurrManager, EmployeeID, strftime(\"%Y\", Date) AS year FROM general_data_up\n",
    "WHERE year = '2015') b1\n",
    "LEFT JOIN (SELECT YearsAtCompany, YearsWithCurrManager, EmployeeID, strftime(\"%Y\", Date) AS year FROM general_data_up\n",
    "WHERE year = '2016') b2 ON b1.EmployeeID = b2.EmployeeID;\n",
    "\n",
    "SELECT * FROM (SELECT *, strftime(\"%Y\", Date) AS year FROM retirement_info_up\n",
    "WHERE year = '2015') b1\n",
    "INNER JOIN (SELECT *, strftime(\"%Y\", Date) AS year FROM retirement_info_up\n",
    "WHERE year = '2016') b2 ON b1.EmployeeID = b2.EmployeeID;\n",
    "\n",
    "\n",
    "\n",
    "SELECT EmployeeID, Date, EnvironmentSatisfaction, JobSatisfaction, WorkLifeBalance, Age, BusinessTravel, Department, \n",
    "DistanceFromHome, Education, EducationField, Gender, JobLevel, JobRole, MaritalStatus, MonthlyIncome, NumCompaniesWorked, PercentSalaryHike, StockOptionLevel, TotalWorkingYears, YearsAtCompany, YearsSinceLastPromotion,\n",
    "YearsWithCurrManager, JobInvolvement, PerformanceRating, retirementType, resignationReason FROM (SELECT * FROM employee_survey_data_up\n",
    "INNER JOIN general_data_up ON employee_survey_data_up.EmployeeID = general_data_up.EmployeeID\n",
    "INNER JOIN manager_survey_up ON employee_survey_data_up.EmployeeID = manager_survey_up.EmployeeID\n",
    "LEFT JOIN retirement_info_up ON employee_survey_data_up.EmployeeID = retirement_info_up.EmployeeID);\n",
    "\n",
    "SELECT * FROM df\n",
    "WHERE retirementType IS NULL;\n",
    "\n",
    "UPDATE df\n",
    "SET retirementType = \"Active\"\n",
    "WHERE retirementType IS NULL;\n",
    "\n",
    "UPDATE df\n",
    "SET resignationReason = \"Not applicable\"\n",
    "WHERE resignationReason IS NULL;"
   ]
  }
 ],
 "metadata": {
  "kernelspec": {
   "display_name": "Python 3 (ipykernel)",
   "language": "python",
   "name": "python3"
  },
  "language_info": {
   "codemirror_mode": {
    "name": "ipython",
    "version": 3
   },
   "file_extension": ".py",
   "mimetype": "text/x-python",
   "name": "python",
   "nbconvert_exporter": "python",
   "pygments_lexer": "ipython3",
   "version": "3.11.5"
  }
 },
 "nbformat": 4,
 "nbformat_minor": 5
}
