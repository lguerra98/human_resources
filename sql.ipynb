{
 "cells": [
  {
   "cell_type": "code",
   "execution_count": 1,
   "id": "5499ee3a-0df6-4dc1-867b-b617b62f5590",
   "metadata": {},
   "outputs": [],
   "source": [
    "import sqlite3\n",
    "import pandas as pd\n",
    "import os\n"
   ]
  },
  {
   "cell_type": "code",
   "execution_count": null,
   "id": "4ae271b1-b290-4151-bcf0-b63bf8e35fb1",
   "metadata": {},
   "outputs": [],
   "source": [
    "def chat_query(query):\n",
    "    return f\"do you know how to {query} using sqlite3 in python\""
   ]
  },
  {
   "cell_type": "code",
   "execution_count": null,
   "id": "8e6d41ce-0fed-4b8f-8653-de188d0719a5",
   "metadata": {},
   "outputs": [],
   "source": [
    "query = \"GO OVER A TABLE WITH A LOOP\".lower()\n",
    "chat_query(query)"
   ]
  },
  {
   "cell_type": "code",
   "execution_count": 2,
   "id": "0d48b716-ca49-480a-9968-a3fbb84c409f",
   "metadata": {},
   "outputs": [],
   "source": [
    "def create_db(path=r\"C:\\Users\\USUARIO\\OneDrive - Universidad de Antioquia\\Analitica_3\"):\n",
    "    \"\"\"\"\n",
    "    Funcion para la creacion del Database\n",
    "\n",
    "    Parametros\n",
    "    ------------\n",
    "        path: direccion local de los archivos como una raw string\n",
    "\n",
    "    \"\"\"\n",
    "    if os.path.exists(\"data\"):\n",
    "        os.unlink(\"data/human_db\")\n",
    "        os.rmdir(\"data\")\n",
    "    \n",
    "    os.mkdir(\"data\")\n",
    "    file_names = [i for i in os.listdir(path) if os.path.splitext(i)[1] == \".csv\"]\n",
    "    conn = sqlite3.connect(\"data/human_db\")\n",
    "\n",
    "    for x in file_names:\n",
    "        pd.read_csv(os.path.join(path, x)).to_sql(os.path.splitext(x)[0], conn, if_exists=\"replace\")\n",
    "        \n",
    "    conn.close()"
   ]
  },
  {
   "cell_type": "code",
   "execution_count": 3,
   "id": "e27c4201-768b-4238-90a3-dc9236a8261f",
   "metadata": {},
   "outputs": [],
   "source": [
    "create_db()"
   ]
  },
  {
   "cell_type": "code",
   "execution_count": null,
   "id": "a3326883-0172-495d-8225-50a663b52d63",
   "metadata": {},
   "outputs": [],
   "source": [
    "%load_ext sql\n",
    "%sql sqlite:///data/human_db"
   ]
  },
  {
   "cell_type": "markdown",
   "id": "1f287689-f95b-406d-8790-115be9638deb",
   "metadata": {},
   "source": [
    "# employee_survey_data"
   ]
  },
  {
   "cell_type": "code",
   "execution_count": null,
   "id": "fd438e0d-e95a-47cd-8952-0a5c08465be6",
   "metadata": {
    "scrolled": true
   },
   "outputs": [],
   "source": [
    "%%sql\n",
    "\n",
    "UPDATE employee_survey_data\n",
    "SET EnvironmentSatisfaction = (SELECT ROUND(AVG(EnvironmentSatisfaction), 0) FROM employee_survey_data)\n",
    "WHERE EnvironmentSatisfaction IS NULL;\n",
    "\n",
    "UPDATE employee_survey_data\n",
    "SET JobSatisfaction = (SELECT ROUND(AVG(JobSatisfaction), 0) FROM employee_survey_data)\n",
    "WHERE JobSatisfaction IS NULL;\n",
    "\n",
    "UPDATE employee_survey_data\n",
    "SET WorkLifeBalance = (SELECT ROUND(AVG(WorkLifeBalance), 0) FROM employee_survey_data)\n",
    "WHERE WorkLifeBalance IS NULL;\n",
    "\n",
    "CREATE TABLE IF NOT EXISTS employee_survey_data_up AS SELECT EmployeeID, DateSurvey, EnvironmentSatisfaction, JobSatisfaction, WorkLifeBalance FROM employee_survey_data;\n",
    "\n",
    "CREATE INDEX IF NOT EXISTS ix_employee_survey_data_up_EmployeeID ON employee_survey_data_up(EmployeeID);"
   ]
  },
  {
   "cell_type": "markdown",
   "id": "62fe37e0-961b-451d-bb64-840c72a76349",
   "metadata": {},
   "source": [
    "# general_data"
   ]
  },
  {
   "cell_type": "code",
   "execution_count": null,
   "id": "81050d97-9813-43f6-9114-7fd224ef850d",
   "metadata": {},
   "outputs": [],
   "source": [
    "%%sql\n",
    "\n",
    "SELECT * FROM general_data\n",
    "LIMIT 5;\n",
    "\n",
    "PRAGMA table_info(general_data);\n"
   ]
  },
  {
   "cell_type": "code",
   "execution_count": null,
   "id": "ddd008e2-3bf0-4c82-a0a1-1c64f98009ce",
   "metadata": {},
   "outputs": [],
   "source": [
    "%%sql\n",
    "\n",
    "SELECT * FROM general_data\n",
    "WHERE TotalWorkingYears IS NULL;"
   ]
  },
  {
   "cell_type": "code",
   "execution_count": null,
   "id": "468284d5-9969-4d79-b7af-4260b200c619",
   "metadata": {},
   "outputs": [],
   "source": [
    "to_delete = [\"EmployeeCount\", \"StandardHours\", \"NumCompaniesWorked\", ]"
   ]
  },
  {
   "cell_type": "code",
   "execution_count": null,
   "id": "1a25f043-f534-4ec0-a30e-2841e44cfd46",
   "metadata": {},
   "outputs": [],
   "source": [
    "%%sql\n",
    "SELECT DISTINCT MaritalStatus FROM general_data;"
   ]
  }
 ],
 "metadata": {
  "kernelspec": {
   "display_name": "Python 3 (ipykernel)",
   "language": "python",
   "name": "python3"
  },
  "language_info": {
   "codemirror_mode": {
    "name": "ipython",
    "version": 3
   },
   "file_extension": ".py",
   "mimetype": "text/x-python",
   "name": "python",
   "nbconvert_exporter": "python",
   "pygments_lexer": "ipython3",
   "version": "3.11.7"
  }
 },
 "nbformat": 4,
 "nbformat_minor": 5
}
