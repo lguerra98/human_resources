{
 "cells": [
  {
   "cell_type": "code",
   "execution_count": 25,
   "id": "e0080d8f",
   "metadata": {},
   "outputs": [],
   "source": [
    "from source import create_db, create_df, heatmap, pieplot, barcharts, histograms, scatterplots, fit_model, feature_sel\n",
    "import sqlite3\n",
    "import pandas as pd\n",
    "import matplotlib.pyplot as plt\n",
    "import seaborn as sns\n",
    "import itertools\n",
    "import pickle\n",
    "import os\n",
    "\n",
    "from sklearn.feature_selection import VarianceThreshold, SelectKBest, SelectFromModel, chi2, mutual_info_classif, RFECV, RFE\n",
    "from sklearn.linear_model import Lasso, LassoCV, RidgeClassifier, RidgeClassifierCV, LinearRegression, LogisticRegression, LinearRegression\n",
    "from sklearn.tree import DecisionTreeClassifier\n",
    "from sklearn.model_selection import train_test_split\n",
    "from sklearn.pipeline import make_pipeline\n",
    "from sklearn.preprocessing import StandardScaler, OneHotEncoder, OrdinalEncoder, MinMaxScaler\n",
    "from sklearn.compose import ColumnTransformer\n",
    "from imblearn.over_sampling import RandomOverSampler\n",
    "from imblearn.under_sampling import RandomUnderSampler\n",
    "import numpy as np\n",
    "\n",
    "from sklearn.feature_selection import VarianceThreshold, SelectKBest, SelectFromModel, chi2, mutual_info_classif, RFECV, RFE\n",
    "from sklearn.linear_model import Lasso, LassoCV, RidgeClassifier, RidgeClassifierCV, LinearRegression, LogisticRegression, LinearRegression\n",
    "from sklearn.tree import DecisionTreeClassifier\n",
    "from sklearn.model_selection import train_test_split, GridSearchCV\n",
    "from sklearn.pipeline import make_pipeline\n",
    "from sklearn.preprocessing import StandardScaler, OneHotEncoder, OrdinalEncoder, MinMaxScaler\n",
    "from sklearn.compose import ColumnTransformer\n",
    "from sklearn.ensemble import RandomForestClassifier, GradientBoostingClassifier\n",
    "from sklearn.metrics import precision_score, f1_score\n",
    "\n",
    "\n",
    "\n",
    "from collections import Counter\n",
    "\n",
    "\n",
    "\n",
    "pd.set_option(\"display.max_columns\", None)"
   ]
  },
  {
   "cell_type": "code",
   "execution_count": 2,
   "id": "cbabc10b-b90e-4d17-bfdb-816d4cf98d7b",
   "metadata": {},
   "outputs": [],
   "source": [
    "query = \"SELECT * FROM df\"\n",
    "query_2 = \"PRAGMA table_info(df)\"\n",
    "df = create_df(query, index=True)\n",
    "df_info = create_df(query_2)"
   ]
  },
  {
   "cell_type": "markdown",
   "id": "c55e7ee9",
   "metadata": {
    "jp-MarkdownHeadingCollapsed": true
   },
   "source": [
    "# EDA"
   ]
  },
  {
   "cell_type": "markdown",
   "id": "b40a6087",
   "metadata": {},
   "source": [
    "## Informacion de Variables en el DataFrame"
   ]
  },
  {
   "cell_type": "code",
   "execution_count": null,
   "id": "8da21e82-8999-4f35-a625-0dabd411c4c2",
   "metadata": {
    "scrolled": true
   },
   "outputs": [],
   "source": [
    "df_info"
   ]
  },
  {
   "cell_type": "markdown",
   "id": "8b3b0948-de66-4236-9f99-ab416a5fe925",
   "metadata": {},
   "source": [
    "## Comparacion de datos por año"
   ]
  },
  {
   "cell_type": "markdown",
   "id": "3a3f8449",
   "metadata": {},
   "source": [
    "### Proporcion de bajas en la empresa por año"
   ]
  },
  {
   "cell_type": "code",
   "execution_count": null,
   "id": "fe03c187-d370-4754-a92b-750a80399946",
   "metadata": {},
   "outputs": [],
   "source": [
    "pieplot(df)"
   ]
  },
  {
   "cell_type": "markdown",
   "id": "dae4274f",
   "metadata": {},
   "source": [
    "### Coparacion de la distribucion de los datos por año"
   ]
  },
  {
   "cell_type": "markdown",
   "id": "317858e1",
   "metadata": {},
   "source": [
    "#### 2015"
   ]
  },
  {
   "cell_type": "code",
   "execution_count": 49,
   "id": "424ec3ab",
   "metadata": {},
   "outputs": [
    {
     "name": "stdout",
     "output_type": "stream",
     "text": [
      "Numero de columna: 0\n"
     ]
    },
    {
     "name": "stdout",
     "output_type": "stream",
     "text": [
      "0\n"
     ]
    },
    {
     "data": {
      "image/png": "[encoded data removed]",
      "text/plain": [
       "<Figure size 640x480 with 1 Axes>"
      ]
     },
     "metadata": {},
     "output_type": "display_data"
    }
   ],
   "source": [
    "list_cat = df.select_dtypes(\"object\").drop(columns=\"Attrition\").columns\n",
    "col = eval(input(\"Numero de columna:\", ))\n",
    "barcharts(df=df[df[\"Date\"].dt.strftime(\"%Y\") == \"2015\"], normalize=False, only=True, targ_col=list_cat[col])\n",
    "print(col)"
   ]
  },
  {
   "cell_type": "markdown",
   "id": "57d19e59",
   "metadata": {},
   "source": [
    "#### 2016"
   ]
  },
  {
   "cell_type": "code",
   "execution_count": null,
   "id": "751037f4",
   "metadata": {},
   "outputs": [],
   "source": [
    "list_cat = df.select_dtypes(\"object\").drop(columns=\"Attrition\").columns\n",
    "col = eval(input(\"Numero de columna:\", ))\n",
    "barcharts(df=df[df[\"Date\"].dt.strftime(\"%Y\") == \"2016\"], normalize=False, only=True, targ_col=list_cat[col])\n",
    "print(col)"
   ]
  },
  {
   "cell_type": "markdown",
   "id": "5749dadc-8bc9-41ee-acc7-5c65ec67238c",
   "metadata": {},
   "source": [
    "## Mapa de Correlacion"
   ]
  },
  {
   "cell_type": "code",
   "execution_count": null,
   "id": "4b9049be-c419-446e-95fe-b6fa2c7ad1e1",
   "metadata": {},
   "outputs": [],
   "source": [
    "heatmap(df, annot=True)"
   ]
  },
  {
   "cell_type": "markdown",
   "id": "c35ecc86-21ba-401c-930e-92d24eddb498",
   "metadata": {},
   "source": [
    "## Mapas de Dispersion"
   ]
  },
  {
   "cell_type": "code",
   "execution_count": null,
   "id": "96a1f1e1-36e6-481e-8d32-b602f78a686a",
   "metadata": {},
   "outputs": [],
   "source": [
    "scatterplots(df)"
   ]
  },
  {
   "cell_type": "markdown",
   "id": "5c3fe331-e19a-4d95-b92b-90481cca67ab",
   "metadata": {},
   "source": [
    "## Histogramas Variables Numericas"
   ]
  },
  {
   "cell_type": "code",
   "execution_count": null,
   "id": "0aee3ef8-64b2-437e-b947-b4ebfc3d75f0",
   "metadata": {},
   "outputs": [],
   "source": [
    "histograms(df)"
   ]
  },
  {
   "cell_type": "markdown",
   "id": "96c66c10-894b-4ad7-9845-264ea2227ea3",
   "metadata": {},
   "source": [
    "## Diagramas de barra Variables Categoricas"
   ]
  },
  {
   "cell_type": "code",
   "execution_count": null,
   "id": "77547ff8-7784-48de-8d30-8eeda9a0813f",
   "metadata": {},
   "outputs": [],
   "source": [
    "barcharts(df)"
   ]
  },
  {
   "cell_type": "markdown",
   "id": "4119fadf-f582-4b8d-b9eb-c523e5a02b16",
   "metadata": {},
   "source": [
    "# Seleccion de Variables"
   ]
  },
  {
   "cell_type": "code",
   "execution_count": 16,
   "id": "2308c428-d6d6-47f1-8ba4-bdf2ab138d3e",
   "metadata": {},
   "outputs": [],
   "source": [
    "vars_kb, vars_rfe, n_select = feature_sel(num_rfe=8)"
   ]
  },
  {
   "cell_type": "code",
   "execution_count": 4,
   "id": "8c31acbe-a524-4ba0-b381-86c3c1adb0e1",
   "metadata": {},
   "outputs": [
    {
     "ename": "SyntaxError",
     "evalue": "invalid syntax (288945800.py, line 3)",
     "output_type": "error",
     "traceback": [
      "\u001b[1;36m  Cell \u001b[1;32mIn[4], line 3\u001b[1;36m\u001b[0m\n\u001b[1;33m    query = \"SELECT * FROM df\"\u001b[0m\n\u001b[1;37m    ^\u001b[0m\n\u001b[1;31mSyntaxError\u001b[0m\u001b[1;31m:\u001b[0m invalid syntax\n"
     ]
    }
   ],
   "source": [
    "vars = vars_rfe[\"gini_chi2\"].values.tolist()\n",
    "n_select.index.values.tolist()\n"
   ]
  },
  {
   "cell_type": "markdown",
   "id": "dc354239-0173-4f48-a885-6180f05b2a47",
   "metadata": {
    "jp-MarkdownHeadingCollapsed": true
   },
   "source": [
    "# Modelos"
   ]
  },
  {
   "cell_type": "code",
   "execution_count": null,
   "id": "2fcfad46-2d5b-4c15-91f6-44beb0202633",
   "metadata": {},
   "outputs": [],
   "source": [
    "model = fit_model(vars=vars, clf=\"rf\", sample=None, year=2016)"
   ]
  },
  {
   "cell_type": "code",
   "execution_count": null,
   "id": "e1728ca6",
   "metadata": {},
   "outputs": [],
   "source": [
    "query = \"SELECT * FROM df WHERE strftime('%Y', Date) = '2016'\"\n",
    "df = create_df(query, index=True)\n",
    "\n",
    "target = \"Attrition\"\n",
    "\n",
    "X = df[vars]\n",
    "y = df[target]\n",
    "    \n",
    "    \n",
    "X_train, X_test, y_train, y_test = train_test_split(X, y, test_size=0.2, random_state=42)\n",
    "\n",
    "\n",
    "pred = model.predict(X_test)\n",
    "f1_score(y_test, pred, pos_label=\"1\")"
   ]
  },
  {
   "cell_type": "code",
   "execution_count": 27,
   "id": "76d96c77-33b1-40b6-af94-333bc4adf785",
   "metadata": {
    "scrolled": true
   },
   "outputs": [
    {
     "ename": "NameError",
     "evalue": "name 'SVC' is not defined",
     "output_type": "error",
     "traceback": [
      "\u001b[1;31m---------------------------------------------------------------------------\u001b[0m",
      "\u001b[1;31mNameError\u001b[0m                                 Traceback (most recent call last)",
      "Cell \u001b[1;32mIn[27], line 24\u001b[0m\n\u001b[0;32m     19\u001b[0m cat_vals \u001b[38;5;241m=\u001b[39m X\u001b[38;5;241m.\u001b[39mselect_dtypes(\u001b[38;5;124m\"\u001b[39m\u001b[38;5;124mobject\u001b[39m\u001b[38;5;124m\"\u001b[39m)\u001b[38;5;241m.\u001b[39mcolumns\u001b[38;5;241m.\u001b[39mtolist()\n\u001b[0;32m     21\u001b[0m processor \u001b[38;5;241m=\u001b[39m ColumnTransformer(transformers\u001b[38;5;241m=\u001b[39m[(\u001b[38;5;124m\"\u001b[39m\u001b[38;5;124mcat\u001b[39m\u001b[38;5;124m\"\u001b[39m, cat_processor, cat_vals), (\u001b[38;5;124m\"\u001b[39m\u001b[38;5;124mnum\u001b[39m\u001b[38;5;124m\"\u001b[39m, num_processor, num_vals)])\n\u001b[0;32m     23\u001b[0m model \u001b[38;5;241m=\u001b[39m make_pipeline(processor,\n\u001b[1;32m---> 24\u001b[0m                       SVC(random_state\u001b[38;5;241m=\u001b[39m\u001b[38;5;241m42\u001b[39m))\n\u001b[0;32m     27\u001b[0m model\u001b[38;5;241m.\u001b[39mfit(X_train, y_train)\n",
      "\u001b[1;31mNameError\u001b[0m: name 'SVC' is not defined"
     ]
    }
   ],
   "source": [
    "def models_info(year=2016, num_rfe=10):\n",
    "\n",
    "    vars_kb, vars_rfe, n_select = feature_sel(num_rfe=num_rfe)\n",
    "\n",
    "    if year:\n",
    "        query = f\"SELECT * FROM df WHERE strftime('%Y', Date) = '{year}'\"\n",
    "    else:\n",
    "        query = \"SELECT * FROM df\"\n",
    "    \n",
    "    df = create_df(query, index=True)\n",
    "\n",
    "\n",
    "    info_f1 = {i:[] for i in vars_rfe.columns}\n",
    "    clfs = [\"rf\", \"gb\", \"sv\"]\n",
    "\n",
    "    for v in vars_rfe:\n",
    "        for clf in clfs:\n",
    "            vars = vars_rfe[v].values.tolist()\n",
    "            target = \"Attrition\"\n",
    "            X = df[vars]\n",
    "            y = df[target]\n",
    "            X_train, X_test, y_train, y_test = train_test_split(X, y, test_size=0.2, random_state=42)\n",
    "            model = fit_model(vars=vars, clf=clf, sample=None, year=year)\n",
    "            pred = model.predict(X_test)\n",
    "            info_f1[v].append(f1_score(y_test, pred, pos_label=\"1\"))\n",
    "            \n",
    "    _ = {\"recurrente\": []}    \n",
    "    for clf in clfs:\n",
    "        vars = n_select.index.values.tolist()\n",
    "        target = \"Attrition\"\n",
    "        X = df[vars]\n",
    "        y = df[target]\n",
    "        X_train, X_test, y_train, y_test = train_test_split(X, y, test_size=0.2, random_state=42)\n",
    "        model = fit_model(vars=vars, clf=clf, sample=None, year=year)\n",
    "        pred = model.predict(X_test)\n",
    "        _[\"recurrente\"].append(f1_score(y_test, pred, pos_label=\"1\"))\n",
    "    \n",
    "    info = pd.DataFrame(info_f1, index=clfs)\n",
    "\n",
    "    display(info)\n"
   ]
  },
  {
   "cell_type": "code",
   "execution_count": 8,
   "id": "2b4594a9-4da3-4895-9661-13c69210685e",
   "metadata": {},
   "outputs": [
    {
     "ename": "NameError",
     "evalue": "name 'model' is not defined",
     "output_type": "error",
     "traceback": [
      "\u001b[1;31m---------------------------------------------------------------------------\u001b[0m",
      "\u001b[1;31mNameError\u001b[0m                                 Traceback (most recent call last)",
      "Cell \u001b[1;32mIn[8], line 1\u001b[0m\n\u001b[1;32m----> 1\u001b[0m model\u001b[38;5;241m.\u001b[39mscore(X_test, y_test)\n",
      "\u001b[1;31mNameError\u001b[0m: name 'model' is not defined"
     ]
    }
   ],
   "source": [
    "models_info(vars_rfe=vars_rfe)"
   ]
  },
  {
   "cell_type": "code",
   "execution_count": 23,
   "id": "f2c3973a-2f8f-4b44-a49e-f92acf1ba45d",
   "metadata": {},
   "outputs": [],
   "source": [
    "vars_rfe"
   ]
  },
  {
   "cell_type": "code",
   "execution_count": 24,
   "id": "f869b0f1-215b-4326-8e08-9ef14d38a5fb",
   "metadata": {},
   "outputs": [
    {
     "data": {
      "text/plain": [
       "0.9907514450867052"
      ]
     },
     "execution_count": 24,
     "metadata": {},
     "output_type": "execute_result"
    }
   ],
   "source": [
    "params = {\"randomforestclassifier__n_estimators\": range(25, 100, 25),\n",
    "          \"randomforestclassifier__max_depth\": range(10, 40, 10),\n",
    "          \"randomforestclassifier__criterion\": [\"gini\", \"entropy\", \"log_loss\"],\n",
    "          \"randomforestclassifier__max_features\": [\"sqrt\", \"log2\", None]\n",
    "         }\n",
    "\n",
    "vars = vars_rfe[\"gini_chi2\"].values.tolist()\n",
    "# model, X_test, y_test = fit_model(vars, year=2016)\n",
    "\n",
    "model_final = GridSearchCV(model, param_grid=params, cv=7, verbose=True, n_jobs=-1)\n",
    "\n",
    "model_final.fit(X_train, y_train)\n",
    "\n",
    "model_final.best_estimator_"
   ]
  },
  {
   "cell_type": "code",
   "execution_count": null,
   "id": "69b6a438",
   "metadata": {},
   "outputs": [],
   "source": [
    "best_params = {i[len(\"randomforestclassifier__\"):]:j for i,j in model_final.best_params_.items()}\n",
    "\n",
    "# prediction = model_final.best_estimator_.predict(X_test)\n",
    "\n",
    "# f1_score(y_test, prediction, pos_label=\"1\")\n",
    "\n",
    "best_params"
   ]
  },
  {
   "cell_type": "code",
   "execution_count": null,
   "id": "fb270717",
   "metadata": {},
   "outputs": [],
   "source": [
    "from sklearn.metrics import ConfusionMatrixDisplay"
   ]
  },
  {
   "cell_type": "code",
   "execution_count": null,
   "id": "82b8139b",
   "metadata": {},
   "outputs": [
    {
     "data": {
      "image/png": "[encoded data removed]",
      "text/plain": [
       "<Figure size 640x480 with 2 Axes>"
      ]
     },
     "metadata": {},
     "output_type": "display_data"
    }
   ],
   "source": [
    "ConfusionMatrixDisplay.from_estimator(model_final, X_test, y_test);"
   ]
  },
  {
   "cell_type": "code",
   "execution_count": null,
   "id": "faefdb02",
   "metadata": {},
   "outputs": [
    {
     "data": {
      "image/png": "[encoded data removed]",
      "text/plain": [
       "<Figure size 640x480 with 1 Axes>"
      ]
     },
     "metadata": {},
     "output_type": "display_data"
    }
   ],
   "source": [
    "feature_importances = pd.Series(model_final.best_estimator_.named_steps[\"randomforestclassifier\"].feature_importances_, index=vars)\n",
    "\n",
    "feature_importances.sort_values().plot(kind=\"barh\", xlabel=\"Ginni importance\");"
   ]
  },
  {
   "cell_type": "markdown",
   "id": "77144c4f-9185-4275-88cd-ad9a3792d224",
   "metadata": {
    "jp-MarkdownHeadingCollapsed": true
   },
   "source": [
    "# KMeans"
   ]
  },
  {
   "cell_type": "code",
   "execution_count": null,
   "id": "3b18b96b",
   "metadata": {},
   "outputs": [],
   "source": [
    "silhouette_scores = []\n",
    "inertia_errors = []\n",
    "\n",
    "query = \"SELECT * FROM df\"\n",
    "        \n",
    "df = create_df(query, index=True)\n",
    "\n",
    "target = \"Attrition\"\n",
    "\n",
    "X = df[features]\n",
    "y = df[target]\n",
    "\n",
    "for n_clusters in range(2, 10):\n",
    "\n",
    "    \n",
    "\n",
    "    num_vals = X._get_numeric_data().columns.tolist()\n",
    "    cat_vals = X.select_dtypes(\"object\").columns.tolist()\n",
    "    \n",
    "    \n",
    "        \n",
    "    cat_processor = OneHotEncoder()\n",
    "    num_processor = StandardScaler()\n",
    "\n",
    "    processor = ColumnTransformer(transformers=[(\"cat\", cat_processor, cat_vals), (\"num\", num_processor, num_vals)])\n",
    "\n",
    "    model = make_pipeline(processor, \n",
    "                     KMeans(n_clusters=n_clusters, random_state=42))\n",
    "    model.fit(X)\n",
    "\n",
    "    silhouette_scores.append(silhouette_score(processor.fit_transform(X), model.named_steps[\"kmeans\"].labels_))\n",
    "\n",
    "    inertia_errors.append(model.named_steps[\"kmeans\"].inertia_)\n",
    "\n",
    "\n",
    "silhouette_serie = pd.Series(silhouette_scores, index=range(2, 10))\n",
    "inertia_serie = pd.Series(inertia_errors, index=range(2, 10))\n"
   ]
  },
  {
   "cell_type": "code",
   "execution_count": null,
   "id": "7ade2de5-91af-4daf-b386-4f4662373bda",
   "metadata": {},
   "outputs": [],
   "source": [
    "model.score(X_test, y_test)"
   ]
  },
  {
   "cell_type": "code",
   "execution_count": null,
   "id": "b2d6602e-56f4-433a-8174-327f41b035dc",
   "metadata": {},
   "outputs": [],
   "source": []
  },
  {
   "cell_type": "code",
   "execution_count": null,
   "id": "9897b85e",
   "metadata": {},
   "outputs": [],
   "source": [
    "plt.subplot(2,1,1)\n",
    "silhouette_serie.plot(kind=\"line\", ylabel=\"Silhouette Score\", xlabel=\"N clusters\")\n",
    "plt.subplot(2,1,2)\n",
    "inertia_serie.plot(kind=\"line\", ylabel=\"Inertia\", xlabel=\"N clusters\")\n",
    "\n",
    "plt.tight_layout()\n"
   ]
  },
  {
   "cell_type": "code",
   "execution_count": null,
   "id": "b57e40f1",
   "metadata": {},
   "outputs": [],
   "source": [
    "n_clusters = 4\n",
    "\n",
    "query = \"SELECT * FROM df\"\n",
    "        \n",
    "df = create_df(query, index=True)\n",
    "\n",
    "target = \"Attrition\"\n",
    "\n",
    "X = df[features]\n",
    "y = df[target]\n",
    "\n",
    "num_vals = X._get_numeric_data().columns.tolist()\n",
    "cat_vals = X.select_dtypes(\"object\").columns.tolist()\n",
    "\n",
    "\n",
    "    \n",
    "cat_processor = OneHotEncoder()\n",
    "num_processor = StandardScaler()\n",
    "\n",
    "processor = ColumnTransformer(transformers=[(\"cat\", cat_processor, cat_vals), (\"num\", num_processor, num_vals)])\n",
    "\n",
    "model = make_pipeline(processor, \n",
    "                     KMeans(n_clusters=n_clusters, random_state=42))\n",
    "\n",
    "model.fit(X)"
   ]
  },
  {
   "cell_type": "code",
   "execution_count": null,
   "id": "65b3691f-2652-4968-8d24-b81a2f11cbf7",
   "metadata": {},
   "outputs": [],
   "source": [
    "labels = model.named_steps[\"kmeans\"].labels_"
   ]
  },
  {
   "cell_type": "code",
   "execution_count": null,
   "id": "12f30eb9-2974-48df-9ff9-c3a41c9b0fea",
   "metadata": {},
   "outputs": [],
   "source": [
    "query = \"SELECT * FROM df\"\n",
    "df = create_df(query, index=True)\n",
    "\n",
    "df[\"Labels\"] = labels\n",
    "\n",
    "df = df[df[\"Date\"].dt.strftime(\"%Y\") == \"2016\"]"
   ]
  },
  {
   "cell_type": "code",
   "execution_count": null,
   "id": "33fc5b0f-c5e5-4d45-8eba-70613888720a",
   "metadata": {},
   "outputs": [],
   "source": [
    "num_vals = df._get_numeric_data().drop(\"Labels\", axis=1).columns.tolist()\n",
    "cat_vals = df.select_dtypes(\"object\").columns.tolist()\n",
    "\n",
    "xgb = df.groupby([\"Labels\"], as_index=True)[num_vals].mean()\n",
    "\n",
    "xgb\n",
    "\n",
    "scaler = StandardScaler()\n",
    "\n",
    "xgb_scal = pd.DataFrame(scaler.fit_transform(xgb), columns=xgb.columns, index=xgb.index)"
   ]
  },
  {
   "cell_type": "code",
   "execution_count": null,
   "id": "0317d382-7217-4783-84d8-17eac6321be4",
   "metadata": {},
   "outputs": [],
   "source": [
    "import plotly.express as px\n",
    "fig = px.bar(xgb_scal.T.abs(), barmode=\"group\", labels={\"Labels\":\"<b>Cluster</b>\"}, \n",
    "             template=\"plotly_white\", color_discrete_sequence=px.colors.qualitative.T10)\n",
    "\n",
    "fig.update_layout(xaxis_title=\"<b>Feature</b>\", yaxis_title=\"<b>Normalized median</b>\")\n",
    "\n",
    "fig.show()"
   ]
  },
  {
   "cell_type": "code",
   "execution_count": null,
   "id": "f429c882-6d1f-4d7b-82a5-3b59eb79640a",
   "metadata": {},
   "outputs": [],
   "source": [
    "xgb = df.groupby(\"Labels\", as_index=False)[\"retirementType\"].value_counts(normalize=True)\n",
    "xgb"
   ]
  },
  {
   "cell_type": "code",
   "execution_count": null,
   "id": "37754e73-0e7a-4928-8552-4b5a6c003feb",
   "metadata": {},
   "outputs": [],
   "source": [
    "fig = px.bar(xgb, x=\"retirementType\", y=\"proportion\", color=xgb[\"Labels\"].astype(str), barmode=\"group\", labels={\"Labels\":\"<b>Cluster</b>\"}, \n",
    "             template=\"plotly_white\", color_discrete_sequence=px.colors.qualitative.T10)\n",
    "\n",
    "fig.update_layout(xaxis_title=\"<b>Feature</b>\", yaxis_title=\"<b>Normalized median</b>\")\n",
    "\n",
    "fig.show()"
   ]
  },
  {
   "cell_type": "code",
   "execution_count": null,
   "id": "d00e93c6-c069-439b-b72d-cea8f794f206",
   "metadata": {},
   "outputs": [],
   "source": [
    "xgb = df.groupby(\"Labels\", as_index=False)[\"Department\"].value_counts(normalize=True)"
   ]
  },
  {
   "cell_type": "code",
   "execution_count": null,
   "id": "b42a3426-b11f-4bc8-986f-7ead79c5944a",
   "metadata": {},
   "outputs": [],
   "source": [
    "fig = px.bar(xgb, x=\"Department\", y=\"proportion\", color=xgb[\"Labels\"].astype(str), barmode=\"group\", labels={\"Labels\":\"<b>Cluster</b>\"}, \n",
    "             template=\"plotly_white\", color_discrete_sequence=px.colors.qualitative.T10)\n",
    "\n",
    "fig.update_layout(xaxis_title=\"<b>Feature</b>\", yaxis_title=\"<b>Normalized median</b>\")\n",
    "\n",
    "fig.show()"
   ]
  }
 ],
 "metadata": {
  "kernelspec": {
   "display_name": "Python 3 (ipykernel)",
   "language": "python",
   "name": "python3"
  },
  "language_info": {
   "codemirror_mode": {
    "name": "ipython",
    "version": 3
   },
   "file_extension": ".py",
   "mimetype": "text/x-python",
   "name": "python",
   "nbconvert_exporter": "python",
   "pygments_lexer": "ipython3",
   "version": "3.11.7"
  }
 },
 "nbformat": 4,
 "nbformat_minor": 5
}
