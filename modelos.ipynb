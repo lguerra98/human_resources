{
 "cells": [
  {
   "cell_type": "code",
   "execution_count": 1,
   "id": "e7dfb818-7f4e-4cfe-b38f-b8d02d830d2f",
   "metadata": {},
   "outputs": [],
   "source": [
    "from source import create_db, create_df, fit_model\n",
    "import sqlite3\n",
    "import pandas as pd"
   ]
  },
  {
   "cell_type": "code",
   "execution_count": null,
   "id": "4b08a8e2-d87b-4d8e-bfed-0e92d7eac727",
   "metadata": {},
   "outputs": [],
   "source": [
    "cls = fit_model()"
   ]
  },
  {
   "cell_type": "code",
   "execution_count": null,
   "id": "d6a0e4be-6ab3-4032-9c44-d0a8d70955c1",
   "metadata": {},
   "outputs": [],
   "source": [
    "cls.fit(X_train, y_train)"
   ]
  },
  {
   "cell_type": "code",
   "execution_count": null,
   "id": "5f4f6d15-3d1d-4872-a16f-c2fc0cab7586",
   "metadata": {},
   "outputs": [],
   "source": [
    "cls.score(X_test, y_test)"
   ]
  }
 ],
 "metadata": {
  "kernelspec": {
   "display_name": "Python 3 (ipykernel)",
   "language": "python",
   "name": "python3"
  },
  "language_info": {
   "codemirror_mode": {
    "name": "ipython",
    "version": 3
   },
   "file_extension": ".py",
   "mimetype": "text/x-python",
   "name": "python",
   "nbconvert_exporter": "python",
   "pygments_lexer": "ipython3",
   "version": "3.11.7"
  }
 },
 "nbformat": 4,
 "nbformat_minor": 5
}
